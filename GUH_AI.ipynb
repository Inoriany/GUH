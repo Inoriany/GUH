{
  "nbformat": 4,
  "nbformat_minor": 0,
  "metadata": {
    "colab": {
      "provenance": [],
      "gpuType": "T4"
    },
    "kernelspec": {
      "name": "python3",
      "display_name": "Python 3"
    },
    "language_info": {
      "name": "python"
    },
    "accelerator": "GPU"
  },
  "cells": [
    {
      "cell_type": "code",
      "source": [
        "from google.colab import files\n",
        "files.upload()"
      ],
      "metadata": {
        "colab": {
          "base_uri": "https://localhost:8080/",
          "height": 92
        },
        "id": "RHMJlYgKpTtd",
        "outputId": "1400f73b-8c01-4945-fbc5-1728f0938fc3"
      },
      "execution_count": 1,
      "outputs": [
        {
          "output_type": "display_data",
          "data": {
            "text/plain": [
              "<IPython.core.display.HTML object>"
            ],
            "text/html": [
              "\n",
              "     <input type=\"file\" id=\"files-9486dffd-e0b9-4da2-b533-13c29350f90b\" name=\"files[]\" multiple disabled\n",
              "        style=\"border:none\" />\n",
              "     <output id=\"result-9486dffd-e0b9-4da2-b533-13c29350f90b\">\n",
              "      Upload widget is only available when the cell has been executed in the\n",
              "      current browser session. Please rerun this cell to enable.\n",
              "      </output>\n",
              "      <script>// Copyright 2017 Google LLC\n",
              "//\n",
              "// Licensed under the Apache License, Version 2.0 (the \"License\");\n",
              "// you may not use this file except in compliance with the License.\n",
              "// You may obtain a copy of the License at\n",
              "//\n",
              "//      http://www.apache.org/licenses/LICENSE-2.0\n",
              "//\n",
              "// Unless required by applicable law or agreed to in writing, software\n",
              "// distributed under the License is distributed on an \"AS IS\" BASIS,\n",
              "// WITHOUT WARRANTIES OR CONDITIONS OF ANY KIND, either express or implied.\n",
              "// See the License for the specific language governing permissions and\n",
              "// limitations under the License.\n",
              "\n",
              "/**\n",
              " * @fileoverview Helpers for google.colab Python module.\n",
              " */\n",
              "(function(scope) {\n",
              "function span(text, styleAttributes = {}) {\n",
              "  const element = document.createElement('span');\n",
              "  element.textContent = text;\n",
              "  for (const key of Object.keys(styleAttributes)) {\n",
              "    element.style[key] = styleAttributes[key];\n",
              "  }\n",
              "  return element;\n",
              "}\n",
              "\n",
              "// Max number of bytes which will be uploaded at a time.\n",
              "const MAX_PAYLOAD_SIZE = 100 * 1024;\n",
              "\n",
              "function _uploadFiles(inputId, outputId) {\n",
              "  const steps = uploadFilesStep(inputId, outputId);\n",
              "  const outputElement = document.getElementById(outputId);\n",
              "  // Cache steps on the outputElement to make it available for the next call\n",
              "  // to uploadFilesContinue from Python.\n",
              "  outputElement.steps = steps;\n",
              "\n",
              "  return _uploadFilesContinue(outputId);\n",
              "}\n",
              "\n",
              "// This is roughly an async generator (not supported in the browser yet),\n",
              "// where there are multiple asynchronous steps and the Python side is going\n",
              "// to poll for completion of each step.\n",
              "// This uses a Promise to block the python side on completion of each step,\n",
              "// then passes the result of the previous step as the input to the next step.\n",
              "function _uploadFilesContinue(outputId) {\n",
              "  const outputElement = document.getElementById(outputId);\n",
              "  const steps = outputElement.steps;\n",
              "\n",
              "  const next = steps.next(outputElement.lastPromiseValue);\n",
              "  return Promise.resolve(next.value.promise).then((value) => {\n",
              "    // Cache the last promise value to make it available to the next\n",
              "    // step of the generator.\n",
              "    outputElement.lastPromiseValue = value;\n",
              "    return next.value.response;\n",
              "  });\n",
              "}\n",
              "\n",
              "/**\n",
              " * Generator function which is called between each async step of the upload\n",
              " * process.\n",
              " * @param {string} inputId Element ID of the input file picker element.\n",
              " * @param {string} outputId Element ID of the output display.\n",
              " * @return {!Iterable<!Object>} Iterable of next steps.\n",
              " */\n",
              "function* uploadFilesStep(inputId, outputId) {\n",
              "  const inputElement = document.getElementById(inputId);\n",
              "  inputElement.disabled = false;\n",
              "\n",
              "  const outputElement = document.getElementById(outputId);\n",
              "  outputElement.innerHTML = '';\n",
              "\n",
              "  const pickedPromise = new Promise((resolve) => {\n",
              "    inputElement.addEventListener('change', (e) => {\n",
              "      resolve(e.target.files);\n",
              "    });\n",
              "  });\n",
              "\n",
              "  const cancel = document.createElement('button');\n",
              "  inputElement.parentElement.appendChild(cancel);\n",
              "  cancel.textContent = 'Cancel upload';\n",
              "  const cancelPromise = new Promise((resolve) => {\n",
              "    cancel.onclick = () => {\n",
              "      resolve(null);\n",
              "    };\n",
              "  });\n",
              "\n",
              "  // Wait for the user to pick the files.\n",
              "  const files = yield {\n",
              "    promise: Promise.race([pickedPromise, cancelPromise]),\n",
              "    response: {\n",
              "      action: 'starting',\n",
              "    }\n",
              "  };\n",
              "\n",
              "  cancel.remove();\n",
              "\n",
              "  // Disable the input element since further picks are not allowed.\n",
              "  inputElement.disabled = true;\n",
              "\n",
              "  if (!files) {\n",
              "    return {\n",
              "      response: {\n",
              "        action: 'complete',\n",
              "      }\n",
              "    };\n",
              "  }\n",
              "\n",
              "  for (const file of files) {\n",
              "    const li = document.createElement('li');\n",
              "    li.append(span(file.name, {fontWeight: 'bold'}));\n",
              "    li.append(span(\n",
              "        `(${file.type || 'n/a'}) - ${file.size} bytes, ` +\n",
              "        `last modified: ${\n",
              "            file.lastModifiedDate ? file.lastModifiedDate.toLocaleDateString() :\n",
              "                                    'n/a'} - `));\n",
              "    const percent = span('0% done');\n",
              "    li.appendChild(percent);\n",
              "\n",
              "    outputElement.appendChild(li);\n",
              "\n",
              "    const fileDataPromise = new Promise((resolve) => {\n",
              "      const reader = new FileReader();\n",
              "      reader.onload = (e) => {\n",
              "        resolve(e.target.result);\n",
              "      };\n",
              "      reader.readAsArrayBuffer(file);\n",
              "    });\n",
              "    // Wait for the data to be ready.\n",
              "    let fileData = yield {\n",
              "      promise: fileDataPromise,\n",
              "      response: {\n",
              "        action: 'continue',\n",
              "      }\n",
              "    };\n",
              "\n",
              "    // Use a chunked sending to avoid message size limits. See b/62115660.\n",
              "    let position = 0;\n",
              "    do {\n",
              "      const length = Math.min(fileData.byteLength - position, MAX_PAYLOAD_SIZE);\n",
              "      const chunk = new Uint8Array(fileData, position, length);\n",
              "      position += length;\n",
              "\n",
              "      const base64 = btoa(String.fromCharCode.apply(null, chunk));\n",
              "      yield {\n",
              "        response: {\n",
              "          action: 'append',\n",
              "          file: file.name,\n",
              "          data: base64,\n",
              "        },\n",
              "      };\n",
              "\n",
              "      let percentDone = fileData.byteLength === 0 ?\n",
              "          100 :\n",
              "          Math.round((position / fileData.byteLength) * 100);\n",
              "      percent.textContent = `${percentDone}% done`;\n",
              "\n",
              "    } while (position < fileData.byteLength);\n",
              "  }\n",
              "\n",
              "  // All done.\n",
              "  yield {\n",
              "    response: {\n",
              "      action: 'complete',\n",
              "    }\n",
              "  };\n",
              "}\n",
              "\n",
              "scope.google = scope.google || {};\n",
              "scope.google.colab = scope.google.colab || {};\n",
              "scope.google.colab._files = {\n",
              "  _uploadFiles,\n",
              "  _uploadFilesContinue,\n",
              "};\n",
              "})(self);\n",
              "</script> "
            ]
          },
          "metadata": {}
        },
        {
          "output_type": "stream",
          "name": "stdout",
          "text": [
            "Saving kaggle.json to kaggle.json\n"
          ]
        },
        {
          "output_type": "execute_result",
          "data": {
            "text/plain": [
              "{'kaggle.json': b'{\"username\":\"ckmadhavan\",\"key\":\"61753a51b598418abcad16b70b22f982\"}'}"
            ]
          },
          "metadata": {},
          "execution_count": 1
        }
      ]
    },
    {
      "cell_type": "code",
      "source": [
        "!rm -r ~/.kaggle\n",
        "!mkdir ~/.kaggle\n",
        "!mv ./kaggle.json ~/.kaggle/\n",
        "!chmod 600 ~/.kaggle/kaggle.json"
      ],
      "metadata": {
        "colab": {
          "base_uri": "https://localhost:8080/"
        },
        "id": "dxiGEnL3psdc",
        "outputId": "8a052de9-d4f4-4266-d216-498bea656227"
      },
      "execution_count": 2,
      "outputs": [
        {
          "output_type": "stream",
          "name": "stdout",
          "text": [
            "rm: cannot remove '/root/.kaggle': No such file or directory\n"
          ]
        }
      ]
    },
    {
      "cell_type": "code",
      "source": [
        "!kaggle datasets download -d ckmadhavan/percentageforestcoverdataset"
      ],
      "metadata": {
        "colab": {
          "base_uri": "https://localhost:8080/"
        },
        "id": "9up2Vpkpo8oX",
        "outputId": "70337a77-762e-4546-9495-ca0f2d4c95f5"
      },
      "execution_count": 3,
      "outputs": [
        {
          "output_type": "stream",
          "name": "stdout",
          "text": [
            "Downloading percentageforestcoverdataset.zip to /content\n",
            "\r  0% 0.00/28.5M [00:00<?, ?B/s]\r 46% 13.0M/28.5M [00:00<00:00, 129MB/s]\n",
            "\r100% 28.5M/28.5M [00:00<00:00, 172MB/s]\n"
          ]
        }
      ]
    },
    {
      "cell_type": "code",
      "source": [
        "!unzip -q /content/percentageforestcoverdataset.zip -d /content"
      ],
      "metadata": {
        "id": "bBrrsDSJp1b1"
      },
      "execution_count": 4,
      "outputs": []
    },
    {
      "cell_type": "code",
      "execution_count": 5,
      "metadata": {
        "id": "aBW25saV5155"
      },
      "outputs": [],
      "source": [
        "import keras\n",
        "import numpy as np\n",
        "import matplotlib.pyplot as plt\n",
        "import pandas as pd\n",
        "from IPython.display import clear_output"
      ]
    },
    {
      "cell_type": "code",
      "source": [
        "original_imgs = []\n",
        "output_percentages = []"
      ],
      "metadata": {
        "id": "YYxumDO26U6j"
      },
      "execution_count": 6,
      "outputs": []
    },
    {
      "cell_type": "code",
      "source": [
        "df = pd.read_csv('/content/new_data.csv')\n",
        "image_directory = '/content/original/'\n",
        "\n",
        "for i in range(len(df)):\n",
        "  img = plt.imread(image_directory + df.loc[i]['image_name'])\n",
        "  original_imgs.append(img)\n",
        "  output_percentages.append(df.loc[i]['forestation coverage'])"
      ],
      "metadata": {
        "id": "zoDhjSa5VQUf"
      },
      "execution_count": 7,
      "outputs": []
    },
    {
      "cell_type": "code",
      "source": [
        "print(len(original_imgs), len(output_percentages))"
      ],
      "metadata": {
        "colab": {
          "base_uri": "https://localhost:8080/"
        },
        "id": "ISrlCvAjrTlg",
        "outputId": "893e0888-9b1c-4df1-ac1c-47d71796304b"
      },
      "execution_count": 8,
      "outputs": [
        {
          "output_type": "stream",
          "name": "stdout",
          "text": [
            "4597 4597\n"
          ]
        }
      ]
    },
    {
      "cell_type": "code",
      "source": [
        "X_train = np.array(original_imgs[:4000]).reshape(-1,128,128,3)\n",
        "y_train = np.array(output_percentages[:4000]).reshape(-1,1)\n",
        "\n",
        "X_val = np.array(original_imgs[4000:4300]).reshape(-1,128,128,3)\n",
        "y_val = np.array(output_percentages[4000:4300]).reshape(-1,1)\n",
        "\n",
        "X_test = np.array(original_imgs[4300:]).reshape(-1,128,128,3)\n",
        "y_test = np.array(output_percentages[4300:]).reshape(-1,1)"
      ],
      "metadata": {
        "id": "DRLaV7f1rGup"
      },
      "execution_count": 9,
      "outputs": []
    },
    {
      "cell_type": "code",
      "source": [
        "print(X_train.shape, y_train.shape)\n",
        "print(X_val.shape, y_val.shape)\n",
        "print(X_test.shape, y_test.shape)"
      ],
      "metadata": {
        "colab": {
          "base_uri": "https://localhost:8080/"
        },
        "id": "dYGnsJZHryX6",
        "outputId": "e479c2c8-4029-42e1-9a31-4d3cdf9c8961"
      },
      "execution_count": 10,
      "outputs": [
        {
          "output_type": "stream",
          "name": "stdout",
          "text": [
            "(4000, 128, 128, 3) (4000, 1)\n",
            "(300, 128, 128, 3) (300, 1)\n",
            "(297, 128, 128, 3) (297, 1)\n"
          ]
        }
      ]
    },
    {
      "cell_type": "code",
      "source": [
        "def bounded_relu(x):\n",
        "\n",
        "  lower_bounded = keras.backend.maximum(x, 0)\n",
        "  bounded = keras.backend.minimum(x, 100)\n",
        "\n",
        "  return bounded"
      ],
      "metadata": {
        "id": "Y_3KKBM0Mhn4"
      },
      "execution_count": 11,
      "outputs": []
    },
    {
      "cell_type": "code",
      "source": [
        "im_size = 128"
      ],
      "metadata": {
        "id": "z_DUS74UOSaA"
      },
      "execution_count": 12,
      "outputs": []
    },
    {
      "cell_type": "code",
      "source": [
        "inp = keras.layers.Input(shape = (im_size,im_size,3))\n",
        "\n",
        "pre_trained_model = keras.applications.EfficientNetB7(include_top = False , input_tensor=inp , weights = 'imagenet' , input_shape = (im_size,im_size,3))\n",
        "for layer in pre_trained_model.layers[:-len(pre_trained_model.layers)//2]:\n",
        "    layer.trainable = False\n",
        "\n",
        "o = keras.layers.GlobalAveragePooling2D()(pre_trained_model.output)\n",
        "o = keras.layers.Dense(256, activation = 'relu')(o)\n",
        "o = keras.layers.BatchNormalization()(o)\n",
        "o = keras.layers.Dropout(0.4)(o)\n",
        "z = keras.layers.Dense(128, activation = 'relu')(o)\n",
        "z = keras.layers.BatchNormalization()(z)\n",
        "z = keras.layers.Dropout(0.4)(z)\n",
        "z = keras.layers.Dense(64, activation = 'relu')(z)\n",
        "z = keras.layers.BatchNormalization()(z)\n",
        "z = keras.layers.Dense(1 , activation = bounded_relu)(z)\n",
        "\n",
        "model = keras.models.Model(inputs=inp, outputs=z)"
      ],
      "metadata": {
        "colab": {
          "base_uri": "https://localhost:8080/"
        },
        "id": "i5CLG36eJHm7",
        "outputId": "554f857b-cef4-43ef-eb23-3da57d39ce1c"
      },
      "execution_count": 13,
      "outputs": [
        {
          "output_type": "stream",
          "name": "stdout",
          "text": [
            "Downloading data from https://storage.googleapis.com/keras-applications/efficientnetb7_notop.h5\n",
            "258076736/258076736 [==============================] - 1s 0us/step\n"
          ]
        }
      ]
    },
    {
      "cell_type": "code",
      "source": [
        "model.compile(loss='mse', optimizer='adam')"
      ],
      "metadata": {
        "id": "0ORbFtfhqLbo"
      },
      "execution_count": 14,
      "outputs": []
    },
    {
      "cell_type": "code",
      "source": [
        "class PlotLosses(keras.callbacks.Callback):\n",
        "    def on_train_begin(self, logs={}):\n",
        "        self.i = 0\n",
        "        self.x = []\n",
        "        self.val_losses = []\n",
        "        self.losses = []\n",
        "\n",
        "        self.fig = plt.figure()\n",
        "\n",
        "        self.logs = []\n",
        "\n",
        "    def on_epoch_end(self, epoch, logs={}):\n",
        "\n",
        "        self.logs.append(logs)\n",
        "        self.x.append(self.i)\n",
        "        self.val_losses.append(logs.get('val_loss'))\n",
        "        self.losses.append(logs.get('loss'))\n",
        "        self.i += 1\n",
        "\n",
        "        clear_output(wait=True)\n",
        "        plt.plot(self.x, self.val_losses, label=\"val_loss\" , marker ='o')\n",
        "        plt.plot(self.x, self.losses, label=\"loss\" , marker ='o')\n",
        "        plt.legend()\n",
        "        plt.show()\n",
        "\n",
        "plot_losses = PlotLosses()"
      ],
      "metadata": {
        "id": "wbjajc3byUq-"
      },
      "execution_count": 15,
      "outputs": []
    },
    {
      "cell_type": "code",
      "source": [
        "!mkdir output"
      ],
      "metadata": {
        "id": "9oVqW9H8zqgO"
      },
      "execution_count": 16,
      "outputs": []
    },
    {
      "cell_type": "code",
      "source": [
        "checkpoint = keras.callbacks.ModelCheckpoint('/content/output/best.h5',\n",
        "    verbose=1,\n",
        "    monitor='val_loss',\n",
        "    save_best_only=True,\n",
        "    mode='auto'\n",
        ")"
      ],
      "metadata": {
        "id": "27Px6Ngzy7Qm"
      },
      "execution_count": 17,
      "outputs": []
    },
    {
      "cell_type": "code",
      "source": [
        "NUM_EPOCHS = 50\n",
        "\n",
        "model.fit(X_train , y_train , epochs = NUM_EPOCHS, validation_data = (X_val, y_val), callbacks = [plot_losses, checkpoint])"
      ],
      "metadata": {
        "colab": {
          "base_uri": "https://localhost:8080/",
          "height": 503
        },
        "id": "f7AU5ZH1qf_g",
        "outputId": "ac90019b-a391-409a-81ce-3caaf6086f6e"
      },
      "execution_count": 18,
      "outputs": [
        {
          "output_type": "display_data",
          "data": {
            "text/plain": [
              "<Figure size 640x480 with 1 Axes>"
            ],
            "image/png": "[encoded data removed]"
          },
          "metadata": {}
        },
        {
          "output_type": "stream",
          "name": "stdout",
          "text": [
            "\n",
            "Epoch 50: val_loss did not improve from 22.01196\n",
            "125/125 [==============================] - 36s 286ms/step - loss: 15.0649 - val_loss: 29.0953\n"
          ]
        },
        {
          "output_type": "execute_result",
          "data": {
            "text/plain": [
              "<keras.src.callbacks.History at 0x7e192e1438e0>"
            ]
          },
          "metadata": {},
          "execution_count": 18
        }
      ]
    },
    {
      "cell_type": "code",
      "source": [
        "for i in range(10):\n",
        "  print(model.predict(X_test[i].reshape(1,128,128,3))[0][0], y_test[i][0])"
      ],
      "metadata": {
        "colab": {
          "base_uri": "https://localhost:8080/"
        },
        "id": "wljaW_LosQ8g",
        "outputId": "e52d29e9-f704-4893-c5ce-ab809341657c"
      },
      "execution_count": 19,
      "outputs": [
        {
          "output_type": "stream",
          "name": "stdout",
          "text": [
            "1/1 [==============================] - 7s 7s/step\n",
            "95.35721 95.39794921875\n",
            "1/1 [==============================] - 0s 49ms/step\n",
            "100.0 100.0\n",
            "1/1 [==============================] - 0s 42ms/step\n",
            "94.22399 95.343017578125\n",
            "1/1 [==============================] - 0s 46ms/step\n",
            "90.36816 87.04833984375\n",
            "1/1 [==============================] - 0s 43ms/step\n",
            "83.14018 88.470458984375\n",
            "1/1 [==============================] - 0s 42ms/step\n",
            "100.0 100.0\n",
            "1/1 [==============================] - 0s 41ms/step\n",
            "53.585464 48.480224609375\n",
            "1/1 [==============================] - 0s 56ms/step\n",
            "4.3817897 5.04150390625\n",
            "1/1 [==============================] - 0s 44ms/step\n",
            "99.683754 98.992919921875\n",
            "1/1 [==============================] - 0s 48ms/step\n",
            "27.125126 21.875\n"
          ]
        }
      ]
    },
    {
      "cell_type": "code",
      "source": [
        "model.save('/content/output/final.h5')"
      ],
      "metadata": {
        "id": "fr7PzMINu5bK"
      },
      "execution_count": 20,
      "outputs": []
    },
    {
      "cell_type": "code",
      "source": [
        "model.save_weights('/content/output/final_weights.h5')"
      ],
      "metadata": {
        "id": "Cp2vRMMyvMa4"
      },
      "execution_count": 21,
      "outputs": []
    },
    {
      "cell_type": "code",
      "source": [
        "!rm -r /content/drive/MyDrive/ForestOutput/*"
      ],
      "metadata": {
        "id": "2riilcTLBokJ"
      },
      "execution_count": 25,
      "outputs": []
    },
    {
      "cell_type": "code",
      "source": [
        "!cp -a /content/output/* /content/drive/MyDrive/ForestOutput/"
      ],
      "metadata": {
        "id": "zeKPrAD_zimW"
      },
      "execution_count": 26,
      "outputs": []
    },
    {
      "cell_type": "code",
      "source": [],
      "metadata": {
        "id": "f4QFQLK5BsqG"
      },
      "execution_count": 23,
      "outputs": []
    }
  ]
}